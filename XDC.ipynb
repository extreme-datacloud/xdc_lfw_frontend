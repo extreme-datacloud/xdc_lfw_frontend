{
 "cells": [
  {
   "cell_type": "markdown",
   "metadata": {},
   "source": [
    "# XDC LifeWatch Use Case\n",
    "<div class=\"row\" style=\"clear:both;display: table;\">\n",
    "    <div class=\"column\" style=\"float: left;width: 25%;padding: 5px;\">\n",
    "        <div class=\"row\" style=\"float: left;width: 100%; height: 50%; padding: 5px;\">\n",
    "            <img style=\"width:100%; height:75%\" src=\"https://pbs.twimg.com/profile_images/1046719562111225856/xBBw0EM2_400x400.jpg\">\n",
    "        </div>\n",
    "        <div class=\"row\" style=\"float: left;width: 100%; height: 50%; padding: 5px;\">\n",
    "            <img style=\"width:100%; height:75%\" src=\"https://www.santandercreativa.com/ekh2983gd29837gt_uploads/web_2/organizaciones_images/image_organizacion_final_425_2015-03-24_12_58_49.jpg\">\n",
    "        </div>\n",
    "    </div>\n",
    "    <div class=\"column\" style=\"float: left;width: 70%; height:70%; padding: 5px;\">\n",
    "        <img style=\"width:50%; height:50%\" src=\"http://www.extreme-datacloud.eu/wp-content/uploads/2018/01/logo1_small-2.png\">\n",
    "    </div>\n",
    "</div>"
   ]
  },
  {
   "cell_type": "code",
   "execution_count": null,
   "metadata": {
    "scrolled": false
   },
   "outputs": [],
   "source": [
    "import XDC_nb\n",
    "menu = XDC_nb.menu()\n",
    "menu"
   ]
  }
 ],
 "metadata": {
  "kernelspec": {
   "display_name": "Python 3",
   "language": "python",
   "name": "python3"
  },
  "language_info": {
   "codemirror_mode": {
    "name": "ipython",
    "version": 3
   },
   "file_extension": ".py",
   "mimetype": "text/x-python",
   "name": "python",
   "nbconvert_exporter": "python",
   "pygments_lexer": "ipython3",
   "version": "3.6.7"
  }
 },
 "nbformat": 4,
 "nbformat_minor": 2
}
